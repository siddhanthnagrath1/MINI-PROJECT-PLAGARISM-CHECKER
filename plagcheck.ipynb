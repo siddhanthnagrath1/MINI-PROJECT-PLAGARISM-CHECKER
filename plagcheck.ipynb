{
  "nbformat": 4,
  "nbformat_minor": 0,
  "metadata": {
    "colab": {
      "provenance": [],
      "include_colab_link": true
    },
    "kernelspec": {
      "name": "python3",
      "display_name": "Python 3"
    },
    "language_info": {
      "name": "python"
    }
  },
  "cells": [
    {
      "cell_type": "markdown",
      "metadata": {
        "id": "view-in-github",
        "colab_type": "text"
      },
      "source": [
        "<a href=\"https://colab.research.google.com/github/siddhanthnagrath1/MINI-PROJECT-PLAGARISM-CHECKER/blob/main/plagcheck.ipynb\" target=\"_parent\"><img src=\"https://colab.research.google.com/assets/colab-badge.svg\" alt=\"Open In Colab\"/></a>"
      ]
    },
    {
      "cell_type": "code",
      "source": [
        "# Import necessary modules!\n",
        "import os  # Module for interacting with the operating system\n",
        "from sklearn.feature_extraction.text import TfidfVectorizer  # Module for text vectorization using TF-IDF\n",
        "from sklearn.metrics.pairwise import cosine_similarity  # Module for calculating cosine similarity"
      ],
      "metadata": {
        "id": "uLm3H2vXyqPQ"
      },
      "execution_count": 1,
      "outputs": []
    },
    {
      "cell_type": "code",
      "source": [
        "# Get a list of all text files in the current directory\n",
        "student_files = [doc for doc in os.listdir() if doc.endswith('.txt')]"
      ],
      "metadata": {
        "id": "3pYT_cgZyrbm"
      },
      "execution_count": 2,
      "outputs": []
    },
    {
      "cell_type": "code",
      "source": [
        "# Read the contents of each student's text file\n",
        "student_notes = [open(_file, encoding='utf-8').read() for _file in student_files]"
      ],
      "metadata": {
        "id": "5QpLioBaytjQ"
      },
      "execution_count": 3,
      "outputs": []
    },
    {
      "cell_type": "code",
      "source": [
        "# Function to vectorize the text using TF-IDF\n",
        "def vectorize(Text):\n",
        "    return TfidfVectorizer().fit_transform(Text).toarray()"
      ],
      "metadata": {
        "id": "3SYJK4Geywgo"
      },
      "execution_count": 4,
      "outputs": []
    },
    {
      "cell_type": "code",
      "source": [
        "# Function to calculate cosine similarity between two documents\n",
        "def similarity(doc1, doc2):\n",
        "    return cosine_similarity([doc1, doc2])"
      ],
      "metadata": {
        "id": "wJZCYdBpyxIW"
      },
      "execution_count": 5,
      "outputs": []
    },
    {
      "cell_type": "code",
      "source": [
        "from sklearn.feature_extraction.text import TfidfVectorizer\n",
        "\n",
        "# Sample student notes and corresponding filenames\n",
        "student_notes = [\n",
        "    \"This is the first student's notes.\",\n",
        "    \"Here are the second student's notes.\",\n",
        "    \"This notes are similar to the first.\",\n",
        "    # Add more notes as needed\n",
        "]\n",
        "student_files = [\n",
        "    \"student1.txt\",\n",
        "    \"student2.txt\",\n",
        "    \"student3.txt\",\n",
        "]\n",
        "\n",
        "# Vectorize the student notes using TF-IDF\n",
        "vectorizer = TfidfVectorizer()\n",
        "vectors = vectorizer.fit_transform(student_notes).toarray()\n",
        "\n",
        "# Pair student files with their corresponding TF-IDF vectors\n",
        "s_vectors = list(zip(student_files, vectors))\n",
        "\n",
        "# Initialize plagiarism results set\n",
        "plagiarism_results = set()\n",
        "\n",
        "# Example of how to check for plagiarism (simple cosine similarity check)\n",
        "from sklearn.metrics.pairwise import cosine_similarity\n",
        "\n",
        "# Calculate cosine similarity between the vectors\n",
        "similarity_matrix = cosine_similarity(vectors)\n",
        "\n",
        "# Check for pairs of students with high similarity\n",
        "threshold = 0.8  # Define a threshold for plagiarism\n",
        "for i in range(len(similarity_matrix)):\n",
        "    for j in range(i + 1, len(similarity_matrix)):\n",
        "        if similarity_matrix[i][j] > threshold:\n",
        "            plagiarism_results.add((student_files[i], student_files[j]))\n",
        "\n",
        "print(\"Plagiarism results:\", plagiarism_results)"
      ],
      "metadata": {
        "id": "GF0Vq-xWyzfY",
        "colab": {
          "base_uri": "https://localhost:8080/"
        },
        "outputId": "bb6ef4f5-cba9-4986-c17b-26ba5f8d6f41"
      },
      "execution_count": 10,
      "outputs": [
        {
          "output_type": "stream",
          "name": "stdout",
          "text": [
            "Plagiarism results: set()\n"
          ]
        }
      ]
    },
    {
      "cell_type": "code",
      "source": [
        "# Function to check plagiarism among the student notes\n",
        "def check_plagiarism():\n",
        "    global s_vectors\n",
        "    for student_a, text_vector_a in s_vectors:\n",
        "        new_vectors = s_vectors.copy()\n",
        "        current_index = new_vectors.index((student_a, text_vector_a))\n",
        "        del new_vectors[current_index]\n",
        "        for student_b, text_vector_b in new_vectors:\n",
        "            # Calculate cosine similarity between two text vectors\n",
        "            sim_score = similarity(text_vector_a, text_vector_b)[0][1]\n",
        "            # Sort the student file names alphabetically to avoid duplicates\n",
        "            student_pair = sorted((student_a, student_b))\n",
        "            # Create a tuple with student file names and similarity score\n",
        "            score = (student_pair[0], student_pair[1], sim_score)\n",
        "            # Add the tuple to plagiarism_results set\n",
        "            plagiarism_results.add(score)\n",
        "    return plagiarism_results"
      ],
      "metadata": {
        "id": "W3fomfHXy2In"
      },
      "execution_count": 11,
      "outputs": []
    },
    {
      "cell_type": "code",
      "source": [
        "# Print the plagiarism results\n",
        "for data in check_plagiarism():\n",
        "    print(\"Similarity data:\\n\", data)\n"
      ],
      "metadata": {
        "id": "5mlYaqu9y6xl",
        "outputId": "275fc3a5-937d-4b29-c6ae-7cc448043d76",
        "colab": {
          "base_uri": "https://localhost:8080/"
        }
      },
      "execution_count": 12,
      "outputs": [
        {
          "output_type": "stream",
          "name": "stdout",
          "text": [
            "Similarity data:\n",
            " ('student1.txt', 'student3.txt', 0.4753863501848216)\n",
            "Similarity data:\n",
            " ('student1.txt', 'student2.txt', 0.35080041941041035)\n",
            "Similarity data:\n",
            " ('student2.txt', 'student3.txt', 0.3087066923070218)\n"
          ]
        }
      ]
    }
  ]
}